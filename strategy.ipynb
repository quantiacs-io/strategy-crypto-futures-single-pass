{
 "cells": [
  {
   "cell_type": "markdown",
   "metadata": {},
   "source": [
    "# A Basic Trend-Following System for BTC Futures (Single Pass)"
   ]
  },
  {
   "cell_type": "markdown",
   "metadata": {},
   "source": [
    "In this notebook we show a very simple strategy based on the crossing of two moving averages. The strategy can be used as starting point for developing more complex approaches. We use a fast single-pass implementation which however can lead to unintentional looking forward."
   ]
  },
  {
   "cell_type": "code",
   "execution_count": null,
   "metadata": {},
   "outputs": [],
   "source": [
    "%%javascript\n",
    "IPython.OutputArea.prototype._should_scroll = function(lines) { return false; }\n",
    "// disable widget scrolling"
   ]
  },
  {
   "cell_type": "markdown",
   "metadata": {},
   "source": [
    "We work with complete time series and define allocation weights at once for all points in time. The computation is fast but, since the time series is processed in a single pass, forward looking can occur. \n",
    "\n",
    "> Note that the performace of this system is not so good as the Sharpe ratio is lower than 1. If you can write a system with a Sharpe ratio larer than 1, save your result and click on the **Submit** button in your **Development** area! Do not forget the final call to the **write** function as in this example."
   ]
  },
  {
   "cell_type": "code",
   "execution_count": 1,
   "metadata": {},
   "outputs": [
    {
     "name": "stdout",
     "output_type": "stream",
     "text": [
      "ffill if the current price is None...\n",
      "Check missed dates...\n",
      "Ok.\n",
      "Normalization...\n",
      "Done.\n"
     ]
    },
    {
     "data": {
      "text/html": [
       "<div>\n",
       "<style scoped>\n",
       "    .dataframe tbody tr th:only-of-type {\n",
       "        vertical-align: middle;\n",
       "    }\n",
       "\n",
       "    .dataframe tbody tr th {\n",
       "        vertical-align: top;\n",
       "    }\n",
       "\n",
       "    .dataframe thead th {\n",
       "        text-align: right;\n",
       "    }\n",
       "</style>\n",
       "<table border=\"1\" class=\"dataframe\">\n",
       "  <thead>\n",
       "    <tr style=\"text-align: right;\">\n",
       "      <th>field</th>\n",
       "      <th>equity</th>\n",
       "      <th>relative_return</th>\n",
       "      <th>volatility</th>\n",
       "      <th>underwater</th>\n",
       "      <th>max_drawdown</th>\n",
       "      <th>sharpe_ratio</th>\n",
       "      <th>mean_return</th>\n",
       "      <th>bias</th>\n",
       "      <th>instruments</th>\n",
       "      <th>avg_turnover</th>\n",
       "      <th>avg_holding_time</th>\n",
       "    </tr>\n",
       "    <tr>\n",
       "      <th>time</th>\n",
       "      <th></th>\n",
       "      <th></th>\n",
       "      <th></th>\n",
       "      <th></th>\n",
       "      <th></th>\n",
       "      <th></th>\n",
       "      <th></th>\n",
       "      <th></th>\n",
       "      <th></th>\n",
       "      <th></th>\n",
       "      <th></th>\n",
       "    </tr>\n",
       "  </thead>\n",
       "  <tbody>\n",
       "    <tr>\n",
       "      <th>2021-02-23</th>\n",
       "      <td>28.499508</td>\n",
       "      <td>-0.118298</td>\n",
       "      <td>0.725689</td>\n",
       "      <td>-0.148325</td>\n",
       "      <td>-0.815527</td>\n",
       "      <td>0.825048</td>\n",
       "      <td>0.598728</td>\n",
       "      <td>1.0</td>\n",
       "      <td>1.0</td>\n",
       "      <td>0.097391</td>\n",
       "      <td>34.755102</td>\n",
       "    </tr>\n",
       "    <tr>\n",
       "      <th>2021-02-24</th>\n",
       "      <td>29.463588</td>\n",
       "      <td>0.033828</td>\n",
       "      <td>0.725579</td>\n",
       "      <td>-0.119514</td>\n",
       "      <td>-0.815527</td>\n",
       "      <td>0.834880</td>\n",
       "      <td>0.605771</td>\n",
       "      <td>1.0</td>\n",
       "      <td>1.0</td>\n",
       "      <td>0.097412</td>\n",
       "      <td>34.755102</td>\n",
       "    </tr>\n",
       "    <tr>\n",
       "      <th>2021-02-25</th>\n",
       "      <td>29.227004</td>\n",
       "      <td>-0.008030</td>\n",
       "      <td>0.725388</td>\n",
       "      <td>-0.126584</td>\n",
       "      <td>-0.815527</td>\n",
       "      <td>0.832020</td>\n",
       "      <td>0.603537</td>\n",
       "      <td>1.0</td>\n",
       "      <td>1.0</td>\n",
       "      <td>0.097370</td>\n",
       "      <td>34.755102</td>\n",
       "    </tr>\n",
       "    <tr>\n",
       "      <th>2021-02-26</th>\n",
       "      <td>27.422813</td>\n",
       "      <td>-0.061730</td>\n",
       "      <td>0.725589</td>\n",
       "      <td>-0.180501</td>\n",
       "      <td>-0.815527</td>\n",
       "      <td>0.811611</td>\n",
       "      <td>0.588895</td>\n",
       "      <td>1.0</td>\n",
       "      <td>1.0</td>\n",
       "      <td>0.097334</td>\n",
       "      <td>34.755102</td>\n",
       "    </tr>\n",
       "    <tr>\n",
       "      <th>2021-03-01</th>\n",
       "      <td>28.905167</td>\n",
       "      <td>0.054056</td>\n",
       "      <td>0.725639</td>\n",
       "      <td>-0.136202</td>\n",
       "      <td>-0.815527</td>\n",
       "      <td>0.827156</td>\n",
       "      <td>0.600216</td>\n",
       "      <td>1.0</td>\n",
       "      <td>1.0</td>\n",
       "      <td>0.097339</td>\n",
       "      <td>35.880000</td>\n",
       "    </tr>\n",
       "  </tbody>\n",
       "</table>\n",
       "</div>"
      ],
      "text/plain": [
       "field          equity  relative_return  volatility  underwater  max_drawdown  \\\n",
       "time                                                                           \n",
       "2021-02-23  28.499508        -0.118298    0.725689   -0.148325     -0.815527   \n",
       "2021-02-24  29.463588         0.033828    0.725579   -0.119514     -0.815527   \n",
       "2021-02-25  29.227004        -0.008030    0.725388   -0.126584     -0.815527   \n",
       "2021-02-26  27.422813        -0.061730    0.725589   -0.180501     -0.815527   \n",
       "2021-03-01  28.905167         0.054056    0.725639   -0.136202     -0.815527   \n",
       "\n",
       "field       sharpe_ratio  mean_return  bias  instruments  avg_turnover  \\\n",
       "time                                                                     \n",
       "2021-02-23      0.825048     0.598728   1.0          1.0      0.097391   \n",
       "2021-02-24      0.834880     0.605771   1.0          1.0      0.097412   \n",
       "2021-02-25      0.832020     0.603537   1.0          1.0      0.097370   \n",
       "2021-02-26      0.811611     0.588895   1.0          1.0      0.097334   \n",
       "2021-03-01      0.827156     0.600216   1.0          1.0      0.097339   \n",
       "\n",
       "field       avg_holding_time  \n",
       "time                          \n",
       "2021-02-23         34.755102  \n",
       "2021-02-24         34.755102  \n",
       "2021-02-25         34.755102  \n",
       "2021-02-26         34.755102  \n",
       "2021-03-01         35.880000  "
      ]
     },
     "metadata": {},
     "output_type": "display_data"
    },
    {
     "name": "stdout",
     "output_type": "stream",
     "text": [
      "Check missed dates...\n",
      "Ok.\n",
      "Check the sharpe ratio...\n",
      "Period: 2014-01-01 - 2021-03-01\n",
      "Sharpe Ratio = 0.8271558411465563\n"
     ]
    },
    {
     "name": "stderr",
     "output_type": "stream",
     "text": [
      "ERROR! The sharpe ratio is too low. 0.8271558411465563 < 1\n"
     ]
    },
    {
     "name": "stdout",
     "output_type": "stream",
     "text": [
      "Check correlation.\n",
      "\n"
     ]
    },
    {
     "name": "stderr",
     "output_type": "stream",
     "text": [
      "WARNING! This strategy correlates with other strategies.\n"
     ]
    },
    {
     "name": "stdout",
     "output_type": "stream",
     "text": [
      "The number of systems with a larger Sharpe ratio and correlation larger than 0.9: 1\n",
      "The max correlation value (with systems with a larger Sharpe ratio): 1.0\n",
      "Current sharpe ratio(3y): 0.6353498535432425\n",
      "\n",
      "Write output: /root/fractions.nc.gz\n"
     ]
    }
   ],
   "source": [
    "import xarray as xr\n",
    "\n",
    "import qnt.stats as qnstats\n",
    "import qnt.data as qndata\n",
    "import qnt.output as qnout\n",
    "import qnt.ta as qnta\n",
    "\n",
    "# load data:\n",
    "data = qndata.cryptofutures.load_data(min_date=\"2013-04-01\")\n",
    "\n",
    "# calc weights:\n",
    "close = data.sel(field=\"close\")\n",
    "ma_slow = qnta.lwma(close, 50)\n",
    "ma_fast = qnta.lwma(close, 10)\n",
    "weights = xr.where(ma_fast > ma_slow, 1, -1)\n",
    "\n",
    "# normalize if total allocations larger than 1 and fill potentially missing values:\n",
    "weights = qnout.clean(weights, data)\n",
    "\n",
    "# calc stats (you can comments these lines for submission):\n",
    "stats = qnstats.calc_stat(data, weights.sel(time=slice(\"2014-01-01\", None)))\n",
    "display(stats.to_pandas().tail())\n",
    "\n",
    "# check that weights are correct:\n",
    "qnout.check(weights, data)\n",
    "\n",
    "# write results, necessary for submission:\n",
    "qnout.write(weights)\n"
   ]
  },
  {
   "cell_type": "markdown",
   "metadata": {},
   "source": [
    "# Multi Pass analog\n",
    "\n",
    " We use a multi-pass implementation which forbids forward looking and can be used for testing your idea.\n",
    "\n",
    "We define a wrapper function for loading the data, and implement our strategy inside a function which returns allocation weights for a given point in time. Then we call the built-in backtesting function and perform the simulation avoiding potential looking-forward issues. \n",
    "\n",
    "> Note that the performace of this system is not so good as the Sharpe ratio is lower than 1. If you can write a system with a **Sharpe ratio larger than 1**, save your result and click on the **Submit** button in your **Development** area!"
   ]
  },
  {
   "cell_type": "markdown",
   "metadata": {},
   "source": [
    "```python\n",
    "import xarray as xr\n",
    "\n",
    "import qnt.ta as qnta\n",
    "import qnt.backtester as qnbt\n",
    "import qnt.data as qndata\n",
    "\n",
    "\n",
    "\n",
    "def load_data(period):\n",
    "    \"\"\"Loads the BTC Futures data for the BTC Futures contest\"\"\"\n",
    "    return qndata.cryptofutures.load_data(tail=period, dims=(\"time\",\"field\",\"asset\"))\n",
    "\n",
    "\n",
    "\n",
    "def strategy(data):\n",
    "    \"\"\"System will go long when the slow-moving moving average is smaller than the\n",
    "    fast-moving one; otherwise it will go short; we use fast implementations\n",
    "    of linear-weighted moving averages based on numba which can be found in\n",
    "    qnt/ta/wma.py\n",
    "    \"\"\"\n",
    "    close= data.sel(field=\"close\")\n",
    "    ma_slow= qnta.lwma(close, 50).isel(time=-1)\n",
    "    ma_fast= qnta.lwma(close, 10).isel(time=-1)\n",
    "    return xr.where(ma_fast > ma_slow, 1, -1)\n",
    "\n",
    "\n",
    "\n",
    "weights = qnbt.backtest(\n",
    "    # BTC Futures contest:\n",
    "    competition_type= \"cryptofutures\",\n",
    "    load_data= load_data,\n",
    "    # lookback in calendar days, it should be larger than the max. lookback used for\n",
    "    # indicators, in this case 200 trading days:\n",
    "    lookback_period= 365,\n",
    "    start_date= \"2014-01-01\",\n",
    "    strategy= strategy,\n",
    "    analyze=True,\n",
    "    build_plots=True\n",
    ")\n",
    "```"
   ]
  }
 ],
 "metadata": {
  "kernelspec": {
   "display_name": "Python 3",
   "language": "python",
   "name": "python3"
  },
  "language_info": {
   "codemirror_mode": {
    "name": "ipython",
    "version": 3
   },
   "file_extension": ".py",
   "mimetype": "text/x-python",
   "name": "python",
   "nbconvert_exporter": "python",
   "pygments_lexer": "ipython3",
   "version": "3.7.9"
  }
 },
 "nbformat": 4,
 "nbformat_minor": 4
}
